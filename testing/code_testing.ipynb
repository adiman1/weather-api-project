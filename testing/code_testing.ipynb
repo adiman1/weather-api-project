{
 "cells": [
  {
   "cell_type": "markdown",
   "id": "61ea63e7",
   "metadata": {},
   "source": [
    "#### Check API"
   ]
  },
  {
   "cell_type": "code",
   "execution_count": null,
   "id": "ec3fa05c",
   "metadata": {},
   "outputs": [
    {
     "data": {
      "text/plain": [
       "{'request': {'type': 'City',\n",
       "  'query': 'Coimbatore, India',\n",
       "  'language': 'en',\n",
       "  'unit': 'm'},\n",
       " 'location': {'name': 'Coimbatore',\n",
       "  'country': 'India',\n",
       "  'region': 'Tamil Nadu',\n",
       "  'lat': '10.993',\n",
       "  'lon': '76.961',\n",
       "  'timezone_id': 'Asia/Kolkata',\n",
       "  'localtime': '2025-07-07 20:57',\n",
       "  'localtime_epoch': 1751921820,\n",
       "  'utc_offset': '5.50'},\n",
       " 'current': {'observation_time': '03:27 PM',\n",
       "  'temperature': 27,\n",
       "  'weather_code': 143,\n",
       "  'weather_icons': ['https://cdn.worldweatheronline.com/images/wsymbols01_png_64/wsymbol_0006_mist.png'],\n",
       "  'weather_descriptions': ['Mist'],\n",
       "  'astro': {'sunrise': '06:05 AM',\n",
       "   'sunset': '06:49 PM',\n",
       "   'moonrise': '03:56 PM',\n",
       "   'moonset': '02:46 AM',\n",
       "   'moon_phase': 'Waxing Gibbous',\n",
       "   'moon_illumination': 86},\n",
       "  'air_quality': {'co': '264.55',\n",
       "   'no2': '4.255',\n",
       "   'o3': '69',\n",
       "   'so2': '3.7',\n",
       "   'pm2_5': '14.615',\n",
       "   'pm10': '30.34',\n",
       "   'us-epa-index': '1',\n",
       "   'gb-defra-index': '1'},\n",
       "  'wind_speed': 21,\n",
       "  'wind_degree': 236,\n",
       "  'wind_dir': 'WSW',\n",
       "  'pressure': 1010,\n",
       "  'precip': 0,\n",
       "  'humidity': 74,\n",
       "  'cloudcover': 50,\n",
       "  'feelslike': 31,\n",
       "  'uv_index': 0,\n",
       "  'visibility': 5,\n",
       "  'is_day': 'no'}}"
      ]
     },
     "execution_count": 2,
     "metadata": {},
     "output_type": "execute_result"
    }
   ],
   "source": [
    "import requests\n",
    "import json\n",
    "from src import config_loader\n",
    "key = config_loader.get_api_key() \n",
    "url = f\"https://api.weatherstack.com/current?access_key={key}\" \n",
    "querystring = {\"query\":\"Coimbatore\"} # enter city here\n",
    "response = requests.get(url, params=querystring)\n",
    "data = response.json()\n",
    "data\n"
   ]
  },
  {
   "cell_type": "markdown",
   "id": "fc1e723e",
   "metadata": {},
   "source": [
    "#### Check JSON Stucture via DF Conversion"
   ]
  },
  {
   "cell_type": "code",
   "execution_count": 3,
   "id": "3a861012",
   "metadata": {},
   "outputs": [
    {
     "data": {
      "text/html": [
       "<div>\n",
       "<style scoped>\n",
       "    .dataframe tbody tr th:only-of-type {\n",
       "        vertical-align: middle;\n",
       "    }\n",
       "\n",
       "    .dataframe tbody tr th {\n",
       "        vertical-align: top;\n",
       "    }\n",
       "\n",
       "    .dataframe thead th {\n",
       "        text-align: right;\n",
       "    }\n",
       "</style>\n",
       "<table border=\"1\" class=\"dataframe\">\n",
       "  <thead>\n",
       "    <tr style=\"text-align: right;\">\n",
       "      <th></th>\n",
       "      <th>request.type</th>\n",
       "      <th>request.query</th>\n",
       "      <th>request.language</th>\n",
       "      <th>request.unit</th>\n",
       "      <th>location.name</th>\n",
       "      <th>location.country</th>\n",
       "      <th>location.region</th>\n",
       "      <th>location.lat</th>\n",
       "      <th>location.lon</th>\n",
       "      <th>location.timezone_id</th>\n",
       "      <th>...</th>\n",
       "      <th>current.wind_degree</th>\n",
       "      <th>current.wind_dir</th>\n",
       "      <th>current.pressure</th>\n",
       "      <th>current.precip</th>\n",
       "      <th>current.humidity</th>\n",
       "      <th>current.cloudcover</th>\n",
       "      <th>current.feelslike</th>\n",
       "      <th>current.uv_index</th>\n",
       "      <th>current.visibility</th>\n",
       "      <th>current.is_day</th>\n",
       "    </tr>\n",
       "  </thead>\n",
       "  <tbody>\n",
       "    <tr>\n",
       "      <th>0</th>\n",
       "      <td>City</td>\n",
       "      <td>Coimbatore, India</td>\n",
       "      <td>en</td>\n",
       "      <td>m</td>\n",
       "      <td>Coimbatore</td>\n",
       "      <td>India</td>\n",
       "      <td>Tamil Nadu</td>\n",
       "      <td>10.993</td>\n",
       "      <td>76.961</td>\n",
       "      <td>Asia/Kolkata</td>\n",
       "      <td>...</td>\n",
       "      <td>236</td>\n",
       "      <td>WSW</td>\n",
       "      <td>1010</td>\n",
       "      <td>0</td>\n",
       "      <td>74</td>\n",
       "      <td>50</td>\n",
       "      <td>31</td>\n",
       "      <td>0</td>\n",
       "      <td>5</td>\n",
       "      <td>no</td>\n",
       "    </tr>\n",
       "  </tbody>\n",
       "</table>\n",
       "<p>1 rows × 43 columns</p>\n",
       "</div>"
      ],
      "text/plain": [
       "  request.type      request.query request.language request.unit location.name  \\\n",
       "0         City  Coimbatore, India               en            m    Coimbatore   \n",
       "\n",
       "  location.country location.region location.lat location.lon  \\\n",
       "0            India      Tamil Nadu       10.993       76.961   \n",
       "\n",
       "  location.timezone_id  ... current.wind_degree  current.wind_dir  \\\n",
       "0         Asia/Kolkata  ...                 236               WSW   \n",
       "\n",
       "  current.pressure current.precip  current.humidity  current.cloudcover  \\\n",
       "0             1010              0                74                  50   \n",
       "\n",
       "  current.feelslike current.uv_index current.visibility current.is_day  \n",
       "0                31                0                  5             no  \n",
       "\n",
       "[1 rows x 43 columns]"
      ]
     },
     "execution_count": 3,
     "metadata": {},
     "output_type": "execute_result"
    }
   ],
   "source": [
    "import pandas as pd\n",
    "df = pd.json_normalize(data)\n",
    "df"
   ]
  },
  {
   "cell_type": "markdown",
   "id": "4f7db6a9",
   "metadata": {},
   "source": [
    "#### Check DB"
   ]
  },
  {
   "cell_type": "code",
   "execution_count": null,
   "id": "a273fc9c",
   "metadata": {},
   "outputs": [
    {
     "name": "stdout",
     "output_type": "stream",
     "text": [
      "(1, 33.0, 'Haze', '06:02 AM', '06:36 PM', '02:38 PM', '02:26 AM', 'Waxing Gibbous', 73, 595.7, 9.99, 85.0, 8.14, 42.18, 74.925, 3, 3, 13.0, 200, 'SSW', 1010.0, 0.0, 53, 25, 35.0, 6.0, 5.0, 1, '2025-05-07', '13:10:00.000000')\n",
      "(2, 33.0, 'Partly cloudy', '06:02 AM', '06:36 PM', '02:38 PM', '02:26 AM', 'Waxing Gibbous', 73, 595.7, 9.99, 85.0, 8.14, 42.18, 74.925, 3, 3, 13.0, 200, 'SSW', 1009.0, 0.0, 53, 50, 35.0, 6.0, 6.0, 1, '2025-05-07', '13:13:00.000000')\n",
      "(3, 33.0, 'Partly cloudy', '06:02 AM', '06:36 PM', '02:38 PM', '02:26 AM', 'Waxing Gibbous', 73, 595.7, 9.99, 85.0, 8.14, 42.18, 74.925, 3, 3, 13.0, 200, 'SSW', 1009.0, 0.0, 53, 50, 35.0, 6.0, 6.0, 1, '2025-05-07', '13:20:00.000000')\n",
      "(4, 33.0, 'Partly cloudy', '06:02 AM', '06:36 PM', '02:38 PM', '02:26 AM', 'Waxing Gibbous', 73, 595.7, 9.99, 85.0, 8.14, 42.18, 74.925, 3, 3, 13.0, 200, 'SSW', 1009.0, 0.0, 53, 50, 35.0, 6.0, 6.0, 1, '2025-05-07', '13:28:00.000000')\n",
      "(5, 34.0, 'Partly cloudy', '06:02 AM', '06:36 PM', '02:38 PM', '02:26 AM', 'Waxing Gibbous', 73, 564.25, 6.845, 99.0, 7.03, 38.85, 69.93, 2, 2, 20.0, 213, 'SSW', 1008.0, 0.0, 50, 50, 37.0, 5.0, 6.0, 1, '2025-05-07', '14:11:00.000000')\n",
      "(6, 34.0, 'Drizzle', '06:02 AM', '06:36 PM', '02:38 PM', '02:26 AM', 'Waxing Gibbous', 73, 510.6, 4.625, 113.0, 5.735, 35.15, 63.455, 2, 2, 20.0, 231, 'SW', 1007.0, 0.3, 50, 75, 40.0, 4.0, 6.0, 1, '2025-05-07', '15:47:00.000000')\n",
      "(7, 29.0, 'Haze', '06:02 AM', '06:36 PM', '02:38 PM', '02:26 AM', 'Waxing Gibbous', 73, 432.9, 2.775, 138.0, 5.18, 30.34, 47.175, 2, 2, 15.0, 286, 'WNW', 1008.0, 3.3, 55, 75, 36.0, 0.0, 4.0, 0, '2025-05-07', '18:38:00.000000')\n",
      "(8, 27.0, 'Mist', '06:02 AM', '06:36 PM', '02:38 PM', '02:26 AM', 'Waxing Gibbous', 73, 429.2, 12.58, 90.0, 5.735, 26.825, 42.18, 2, 2, 15.0, 234, 'SW', 1012.0, 0.1, 79, 50, 31.0, 0.0, 4.0, 0, '2025-05-07', '23:32:00.000000')\n",
      "(9, 27.0, 'Mist', '06:02 AM', '06:36 PM', '02:38 PM', '02:26 AM', 'Waxing Gibbous', 73, 429.2, 12.58, 90.0, 5.735, 26.825, 42.18, 2, 2, 15.0, 234, 'SW', 1012.0, 0.1, 79, 50, 32.0, 0.0, 4.0, 0, '2025-05-07', '23:40:00.000000')\n",
      "(10, 32.0, 'Clear ', '06:01 AM', '06:36 PM', '04:05 PM', '03:37 AM', 'Waxing Gibbous', 88, 375.55, 2.775, 129.0, 4.07, 27.75, 55.87, 2, 2, 19.0, 242, 'WSW', 1009.0, 0.0, 67, 25, 39.0, 0.0, 6.0, 0, '2025-05-09', '19:03:00.000000')\n",
      "(11, 33.0, 'Partly Cloudy ', '06:01 AM', '06:36 PM', '04:50 PM', '04:11 AM', 'Waxing Gibbous', 94, 529.1, 9.065, 90.0, 8.695, 42.365, 77.145, 3, 3, 18.0, 230, 'SW', 1011.0, 0.0, 39, 25, 35.0, 11.0, 8.0, 1, '2025-05-10', '13:23:00.000000')\n",
      "(12, 30.0, 'Haze', '06:00 AM', '06:37 PM', '09:02 PM', '07:45 AM', 'Waning Gibbous', 95, 362.6, 28.49, 30.0, 7.955, 33.115, 37.185, 2, 2, 9.0, 238, 'WSW', 1011.0, 0.0, 66, 50, 33.0, 9.0, 5.0, 1, '2025-05-15', '10:30:00.000000')\n",
      "(13, 27.0, 'Mist', '06:00 AM', '06:37 PM', '09:02 PM', '07:45 AM', 'Waning Gibbous', 95, 388.5, 9.805, 82.0, 4.995, 18.685, 25.16, 2, 2, 14.0, 242, 'WSW', 1011.0, 0.0, 79, 50, 31.0, 0.0, 5.0, 0, '2025-05-15', '23:56:00.000000')\n",
      "(14, 28.0, 'Partly cloudy', '05:58 AM', '06:41 PM', '07:56 AM', '09:15 PM', 'Waxing Crescent', 5, 320.05, 6.845, 56.0, 3.885, 15.725, 22.57, 2, 2, 19.0, 259, 'WSW', 1005.0, 0.7, 70, 75, 35.0, 1.0, 6.0, 1, '2025-05-29', '15:43:00.000000')\n",
      "(15, 29.0, 'Partly cloudy', '06:02 AM', '06:48 PM', '07:44 AM', '08:50 PM', 'Waxing Crescent', 3, 344.1, 11.84, 38.0, 6.105, 11.47, 14.615, 1, 1, 26.0, 241, 'WSW', 1010.0, 0.0, 70, 75, 30.0, 10.0, 6.0, 1, '2025-06-27', '12:55:00.000000')\n"
     ]
    }
   ],
   "source": [
    "# Checking DB containing Raw Data\n",
    "\n",
    "import sqlite3\n",
    "conn = sqlite3.connect(\"D:/Test/data/DB/weather_data.db\")\n",
    "cursor = conn.cursor()\n",
    "cursor.execute('SELECT * FROM current_weather')\n",
    "rows = cursor.fetchall()\n",
    "for i in rows:\n",
    "    print (i)"
   ]
  },
  {
   "cell_type": "code",
   "execution_count": null,
   "id": "931e996e",
   "metadata": {},
   "outputs": [
    {
     "name": "stdout",
     "output_type": "stream",
     "text": [
      "<class 'pandas.core.frame.DataFrame'>\n",
      "RangeIndex: 14 entries, 0 to 13\n",
      "Data columns (total 30 columns):\n",
      " #   Column                Non-Null Count  Dtype  \n",
      "---  ------                --------------  -----  \n",
      " 0   id                    14 non-null     int64  \n",
      " 1   temperature           14 non-null     float64\n",
      " 2   weather_descriptions  14 non-null     object \n",
      " 3   sunrise               14 non-null     object \n",
      " 4   sunset                14 non-null     object \n",
      " 5   moonrise              14 non-null     object \n",
      " 6   moonset               14 non-null     object \n",
      " 7   moon_phase            14 non-null     object \n",
      " 8   moon_illumination     14 non-null     int64  \n",
      " 9   co                    14 non-null     float64\n",
      " 10  no2                   14 non-null     float64\n",
      " 11  o3                    14 non-null     float64\n",
      " 12  so2                   14 non-null     float64\n",
      " 13  pm2_5                 14 non-null     float64\n",
      " 14  pm10                  14 non-null     float64\n",
      " 15  us_epa_index          14 non-null     int64  \n",
      " 16  gb_defra_index        14 non-null     int64  \n",
      " 17  wind_speed            14 non-null     float64\n",
      " 18  wind_degree           14 non-null     int64  \n",
      " 19  wind_dir              14 non-null     object \n",
      " 20  pressure              14 non-null     float64\n",
      " 21  precip                14 non-null     float64\n",
      " 22  humidity              14 non-null     int64  \n",
      " 23  cloudcover            14 non-null     int64  \n",
      " 24  feelslike             14 non-null     float64\n",
      " 25  uv_index              14 non-null     float64\n",
      " 26  visibility            14 non-null     float64\n",
      " 27  is_day                14 non-null     int64  \n",
      " 28  observation_date      14 non-null     object \n",
      " 29  observation_time      14 non-null     object \n",
      "dtypes: float64(13), int64(8), object(9)\n",
      "memory usage: 3.4+ KB\n"
     ]
    }
   ],
   "source": [
    "# Verify DB Data Structure\n",
    "\n",
    "df = pd.read_sql_query(\"SELECT * FROM current_weather\", conn)\n",
    "df.info()\n"
   ]
  },
  {
   "cell_type": "markdown",
   "id": "e1062746",
   "metadata": {},
   "source": [
    "#### Data Visualization"
   ]
  },
  {
   "cell_type": "code",
   "execution_count": null,
   "id": "a8740206",
   "metadata": {},
   "outputs": [
    {
     "data": {
      "image/png": "[encoded data removed]",
      "text/plain": [
       "<Figure size 1200x600 with 1 Axes>"
      ]
     },
     "metadata": {},
     "output_type": "display_data"
    }
   ],
   "source": [
    "import matplotlib.pyplot as plt\n",
    "from datetime import date\n",
    "\n",
    "\n",
    "conn = sqlite3.connect(\"D:/Test/data/DB/weather_data.db\") # enter you sqlite DB location here\n",
    "df = pd.read_sql_query(\"SELECT * FROM current_weather\", conn)\n",
    "conn.close()\n",
    "\n",
    "# Get the latest date from the data\n",
    "latest_date = df['observation_date'].max()\n",
    "df = df[df['observation_date'] == latest_date]\n",
    "\n",
    "# Prepare data\n",
    "df['datetime'] = pd.to_datetime(df['observation_date'].astype(str) + ' ' + df['observation_time'].astype(str))\n",
    "df['hour'] = df['datetime'].dt.hour\n",
    "\n",
    "# Sort for correct plotting\n",
    "df = df.sort_values('hour')\n",
    "\n",
    "# Setup plot\n",
    "fig, ax = plt.subplots(figsize=(12, 6))\n",
    "\n",
    "min_temp = 0  # Start at 0°C\n",
    "max_temp = 40  # Cap at 40°C for banding\n",
    "cmap = plt.cm.Reds\n",
    "\n",
    "# Create bands for every 5°C up to 40°C\n",
    "for t in range(min_temp, max_temp, 5):\n",
    "    norm_val = (t - min_temp) / (max_temp - min_temp)\n",
    "    color = cmap(norm_val)  # Gradual color for each 5°C band\n",
    "    ax.axhspan(t, t + 5, color=color, alpha=0.6)\n",
    "\n",
    "# Band for temperatures above 40°C (red at the max)\n",
    "if df['temperature'].max() > 40:\n",
    "    ax.axhspan(40, df['temperature'].max() + 2, color=cmap(1.0), alpha=0.7) \n",
    "\n",
    "# Plot the line and points\n",
    "ax.plot(df['hour'], df['temperature'], marker='o', linestyle='-', color='gold', label='Temperature')\n",
    "\n",
    "# Add value labels on points\n",
    "for x, y in zip(df['hour'], df['temperature']):\n",
    "    ax.text(x, y + 0.3, f\"{y:.1f}\", ha='center', va='bottom', fontsize=10)\n",
    "\n",
    "# Customize axes\n",
    "ax.set_xlabel('Hour of the Day')\n",
    "ax.set_ylabel('Temperature (°C)')\n",
    "ax.set_title(f'Temperature on {pd.to_datetime(latest_date).date()}')\n",
    "ax.set_xticks(range(24))\n",
    "ax.set_xticklabels([str(i + 1) for i in range(24)])  # Display 1–24\n",
    "ax.legend()\n",
    "plt.tight_layout()\n",
    "plt.show()"
   ]
  }
 ],
 "metadata": {
  "kernelspec": {
   "display_name": "venv",
   "language": "python",
   "name": "python3"
  },
  "language_info": {
   "codemirror_mode": {
    "name": "ipython",
    "version": 3
   },
   "file_extension": ".py",
   "mimetype": "text/x-python",
   "name": "python",
   "nbconvert_exporter": "python",
   "pygments_lexer": "ipython3",
   "version": "3.12.3"
  }
 },
 "nbformat": 4,
 "nbformat_minor": 5
}
